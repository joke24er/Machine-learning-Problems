{
  "nbformat": 4,
  "nbformat_minor": 0,
  "metadata": {
    "colab": {
      "name": "employee.ipynb",
      "provenance": [],
      "collapsed_sections": [
        "Tk0BiS4qKEHJ",
        "tXoOXM5J7jPO"
      ],
      "toc_visible": true,
      "mount_file_id": "1bCc00H8ZiAZ0NsBxZVkqZkKWEBulCvYN",
      "authorship_tag": "ABX9TyMUUSJWoerfQCFD3gH3/Eb3",
      "include_colab_link": true
    },
    "kernelspec": {
      "name": "python3",
      "display_name": "Python 3"
    },
    "language_info": {
      "name": "python"
    }
  },
  "cells": [
    {
      "cell_type": "markdown",
      "metadata": {
        "id": "view-in-github",
        "colab_type": "text"
      },
      "source": [
        "<a href=\"https://colab.research.google.com/github/joke24er/Machine-learning-Problems/blob/main/employee.ipynb\" target=\"_parent\"><img src=\"https://colab.research.google.com/assets/colab-badge.svg\" alt=\"Open In Colab\"/></a>"
      ]
    },
    {
      "cell_type": "markdown",
      "metadata": {
        "id": "FffJl9jdIAGq"
      },
      "source": [
        "# **EDA**"
      ]
    },
    {
      "cell_type": "code",
      "metadata": {
        "id": "nsAlfYRa2W5R"
      },
      "source": [
        "import pandas as pd\n",
        "import numpy as np"
      ],
      "execution_count": null,
      "outputs": []
    },
    {
      "cell_type": "code",
      "metadata": {
        "id": "jo4_lcdD6Ajo"
      },
      "source": [
        "## Reading in the train file\n",
        "\n",
        "df=pd.read_csv('/content/drive/MyDrive/personal/amazon/Train.csv')\n",
        "\n"
      ],
      "execution_count": null,
      "outputs": []
    },
    {
      "cell_type": "code",
      "metadata": {
        "id": "xGwdglP3AxKn",
        "colab": {
          "base_uri": "https://localhost:8080/",
          "height": 290
        },
        "outputId": "623f1eee-7d3f-48c6-fc9e-9b169d9fc3ba"
      },
      "source": [
        "df.head()"
      ],
      "execution_count": null,
      "outputs": [
        {
          "output_type": "execute_result",
          "data": {
            "text/html": [
              "<div>\n",
              "<style scoped>\n",
              "    .dataframe tbody tr th:only-of-type {\n",
              "        vertical-align: middle;\n",
              "    }\n",
              "\n",
              "    .dataframe tbody tr th {\n",
              "        vertical-align: top;\n",
              "    }\n",
              "\n",
              "    .dataframe thead th {\n",
              "        text-align: right;\n",
              "    }\n",
              "</style>\n",
              "<table border=\"1\" class=\"dataframe\">\n",
              "  <thead>\n",
              "    <tr style=\"text-align: right;\">\n",
              "      <th></th>\n",
              "      <th>EmpID</th>\n",
              "      <th>EmpName</th>\n",
              "      <th>LanguageOfCommunication</th>\n",
              "      <th>Age</th>\n",
              "      <th>Gender</th>\n",
              "      <th>JobProfileIDApplyingFor</th>\n",
              "      <th>HighestDegree</th>\n",
              "      <th>DegreeBranch</th>\n",
              "      <th>GraduatingInstitute</th>\n",
              "      <th>LatestDegreeCGPA</th>\n",
              "      <th>YearsOfExperince</th>\n",
              "      <th>GraduationYear</th>\n",
              "      <th>CurrentCTC</th>\n",
              "      <th>ExpectedCTC</th>\n",
              "      <th>MartialStatus</th>\n",
              "      <th>EmpScore</th>\n",
              "      <th>CurrentDesignation</th>\n",
              "      <th>CurrentCompanyType</th>\n",
              "      <th>DepartmentInCompany</th>\n",
              "      <th>TotalLeavesTaken</th>\n",
              "      <th>BiasInfluentialFactor</th>\n",
              "      <th>FitmentPercent</th>\n",
              "    </tr>\n",
              "  </thead>\n",
              "  <tbody>\n",
              "    <tr>\n",
              "      <th>0</th>\n",
              "      <td>11041</td>\n",
              "      <td>John</td>\n",
              "      <td>English</td>\n",
              "      <td>35</td>\n",
              "      <td>Male</td>\n",
              "      <td>JR85289</td>\n",
              "      <td>B.Tech</td>\n",
              "      <td>Electrical</td>\n",
              "      <td>Tier 1</td>\n",
              "      <td>7</td>\n",
              "      <td>12</td>\n",
              "      <td>2009</td>\n",
              "      <td>21</td>\n",
              "      <td>26</td>\n",
              "      <td>Married</td>\n",
              "      <td>5</td>\n",
              "      <td>SSE</td>\n",
              "      <td>Enterprise</td>\n",
              "      <td>Design</td>\n",
              "      <td>20</td>\n",
              "      <td>YearsOfExperince</td>\n",
              "      <td>95.40</td>\n",
              "    </tr>\n",
              "    <tr>\n",
              "      <th>1</th>\n",
              "      <td>15079</td>\n",
              "      <td>William</td>\n",
              "      <td>English</td>\n",
              "      <td>26</td>\n",
              "      <td>Male</td>\n",
              "      <td>JR87525</td>\n",
              "      <td>B.Tech</td>\n",
              "      <td>Artificial Intelligence</td>\n",
              "      <td>Tier 3</td>\n",
              "      <td>7</td>\n",
              "      <td>3</td>\n",
              "      <td>2018</td>\n",
              "      <td>15</td>\n",
              "      <td>19</td>\n",
              "      <td>Married</td>\n",
              "      <td>5</td>\n",
              "      <td>BA</td>\n",
              "      <td>MidSized</td>\n",
              "      <td>Engineering</td>\n",
              "      <td>6</td>\n",
              "      <td>NaN</td>\n",
              "      <td>67.09</td>\n",
              "    </tr>\n",
              "    <tr>\n",
              "      <th>2</th>\n",
              "      <td>18638</td>\n",
              "      <td>James</td>\n",
              "      <td>English</td>\n",
              "      <td>36</td>\n",
              "      <td>Female</td>\n",
              "      <td>JR87525</td>\n",
              "      <td>PhD</td>\n",
              "      <td>Computer Science</td>\n",
              "      <td>Tier 1</td>\n",
              "      <td>6</td>\n",
              "      <td>6</td>\n",
              "      <td>2015</td>\n",
              "      <td>15</td>\n",
              "      <td>24</td>\n",
              "      <td>Single</td>\n",
              "      <td>5</td>\n",
              "      <td>SDE</td>\n",
              "      <td>MidSized</td>\n",
              "      <td>Engineering</td>\n",
              "      <td>19</td>\n",
              "      <td>Gender</td>\n",
              "      <td>91.26</td>\n",
              "    </tr>\n",
              "    <tr>\n",
              "      <th>3</th>\n",
              "      <td>3941</td>\n",
              "      <td>Charles</td>\n",
              "      <td>English</td>\n",
              "      <td>29</td>\n",
              "      <td>Female</td>\n",
              "      <td>JR87525</td>\n",
              "      <td>BCA</td>\n",
              "      <td>Information Technology</td>\n",
              "      <td>Tier 2</td>\n",
              "      <td>5</td>\n",
              "      <td>6</td>\n",
              "      <td>2015</td>\n",
              "      <td>16</td>\n",
              "      <td>24</td>\n",
              "      <td>Married</td>\n",
              "      <td>5</td>\n",
              "      <td>SDE</td>\n",
              "      <td>Startup</td>\n",
              "      <td>Product</td>\n",
              "      <td>16</td>\n",
              "      <td>Gender</td>\n",
              "      <td>72.29</td>\n",
              "    </tr>\n",
              "    <tr>\n",
              "      <th>4</th>\n",
              "      <td>5936</td>\n",
              "      <td>George</td>\n",
              "      <td>English</td>\n",
              "      <td>25</td>\n",
              "      <td>Male</td>\n",
              "      <td>JR70175</td>\n",
              "      <td>Dual M.Tech</td>\n",
              "      <td>Computer Science</td>\n",
              "      <td>Tier 3</td>\n",
              "      <td>8</td>\n",
              "      <td>2</td>\n",
              "      <td>2019</td>\n",
              "      <td>24</td>\n",
              "      <td>32</td>\n",
              "      <td>Married</td>\n",
              "      <td>5</td>\n",
              "      <td>SDE</td>\n",
              "      <td>Enterprise</td>\n",
              "      <td>Engineering</td>\n",
              "      <td>10</td>\n",
              "      <td>DegreeBranch</td>\n",
              "      <td>86.34</td>\n",
              "    </tr>\n",
              "  </tbody>\n",
              "</table>\n",
              "</div>"
            ],
            "text/plain": [
              "   EmpID  EmpName  ... BiasInfluentialFactor  FitmentPercent\n",
              "0  11041     John  ...      YearsOfExperince           95.40\n",
              "1  15079  William  ...                   NaN           67.09\n",
              "2  18638    James  ...                Gender           91.26\n",
              "3   3941  Charles  ...                Gender           72.29\n",
              "4   5936   George  ...          DegreeBranch           86.34\n",
              "\n",
              "[5 rows x 22 columns]"
            ]
          },
          "metadata": {
            "tags": []
          },
          "execution_count": 241
        }
      ]
    },
    {
      "cell_type": "code",
      "metadata": {
        "colab": {
          "base_uri": "https://localhost:8080/"
        },
        "id": "3w3ZQnquFnD4",
        "outputId": "b9fe60df-2718-4baa-94d5-b76dd589b937"
      },
      "source": [
        "df.info()"
      ],
      "execution_count": null,
      "outputs": [
        {
          "output_type": "stream",
          "text": [
            "<class 'pandas.core.frame.DataFrame'>\n",
            "RangeIndex: 13645 entries, 0 to 13644\n",
            "Data columns (total 22 columns):\n",
            " #   Column                   Non-Null Count  Dtype  \n",
            "---  ------                   --------------  -----  \n",
            " 0   EmpID                    13645 non-null  int64  \n",
            " 1   EmpName                  13645 non-null  object \n",
            " 2   LanguageOfCommunication  13645 non-null  object \n",
            " 3   Age                      13645 non-null  int64  \n",
            " 4   Gender                   13645 non-null  object \n",
            " 5   JobProfileIDApplyingFor  13645 non-null  object \n",
            " 6   HighestDegree            13645 non-null  object \n",
            " 7   DegreeBranch             13645 non-null  object \n",
            " 8   GraduatingInstitute      13645 non-null  object \n",
            " 9   LatestDegreeCGPA         13645 non-null  int64  \n",
            " 10  YearsOfExperince         13645 non-null  int64  \n",
            " 11  GraduationYear           13645 non-null  int64  \n",
            " 12  CurrentCTC               13645 non-null  int64  \n",
            " 13  ExpectedCTC              13645 non-null  int64  \n",
            " 14  MartialStatus            13645 non-null  object \n",
            " 15  EmpScore                 13645 non-null  int64  \n",
            " 16  CurrentDesignation       13645 non-null  object \n",
            " 17  CurrentCompanyType       13645 non-null  object \n",
            " 18  DepartmentInCompany      13645 non-null  object \n",
            " 19  TotalLeavesTaken         13645 non-null  int64  \n",
            " 20  BiasInfluentialFactor    10309 non-null  object \n",
            " 21  FitmentPercent           13645 non-null  float64\n",
            "dtypes: float64(1), int64(9), object(12)\n",
            "memory usage: 2.3+ MB\n"
          ],
          "name": "stdout"
        }
      ]
    },
    {
      "cell_type": "code",
      "metadata": {
        "id": "m7i7xCiEX1Dk"
      },
      "source": [
        "df['BiasInfluentialFactor'].fillna('',inplace=True)"
      ],
      "execution_count": null,
      "outputs": []
    },
    {
      "cell_type": "markdown",
      "metadata": {
        "id": "-vRJufI1iHD7"
      },
      "source": [
        "Filling the null values in BiasInfluentialFactor with ' ' inferring there is no factor influencing bias"
      ]
    },
    {
      "cell_type": "code",
      "metadata": {
        "colab": {
          "base_uri": "https://localhost:8080/"
        },
        "id": "6fi0Lt5qYug-",
        "outputId": "82584e3d-325a-41d6-903a-f9dcae3aab1e"
      },
      "source": [
        "df.BiasInfluentialFactor.value_counts()"
      ],
      "execution_count": null,
      "outputs": [
        {
          "output_type": "execute_result",
          "data": {
            "text/plain": [
              "                      3336\n",
              "DegreeBranch          2858\n",
              "Gender                2605\n",
              "YearsOfExperince      1561\n",
              "CurrentCompanyType    1174\n",
              "EmpScore               659\n",
              "HighestDegree          582\n",
              "Ethinicity             328\n",
              "MartialStatus          280\n",
              "LatestDegreeCGPA       262\n",
              "Name: BiasInfluentialFactor, dtype: int64"
            ]
          },
          "metadata": {
            "tags": []
          },
          "execution_count": 244
        }
      ]
    },
    {
      "cell_type": "markdown",
      "metadata": {
        "id": "0p06VI66ZCgy"
      },
      "source": [
        "dropping EmpID and EmpName owing to high cardinality\n"
      ]
    },
    {
      "cell_type": "code",
      "metadata": {
        "id": "w9ajBxEGiuNP"
      },
      "source": [
        "df.drop(columns=['EmpID','EmpName'],inplace=True)"
      ],
      "execution_count": null,
      "outputs": []
    },
    {
      "cell_type": "code",
      "metadata": {
        "colab": {
          "base_uri": "https://localhost:8080/"
        },
        "id": "8TIAtPaOg6DQ",
        "outputId": "82e8f59b-7a53-4373-9238-63dfeb8b99cf"
      },
      "source": [
        "df.info()"
      ],
      "execution_count": null,
      "outputs": [
        {
          "output_type": "stream",
          "text": [
            "<class 'pandas.core.frame.DataFrame'>\n",
            "RangeIndex: 13645 entries, 0 to 13644\n",
            "Data columns (total 20 columns):\n",
            " #   Column                   Non-Null Count  Dtype  \n",
            "---  ------                   --------------  -----  \n",
            " 0   LanguageOfCommunication  13645 non-null  object \n",
            " 1   Age                      13645 non-null  int64  \n",
            " 2   Gender                   13645 non-null  object \n",
            " 3   JobProfileIDApplyingFor  13645 non-null  object \n",
            " 4   HighestDegree            13645 non-null  object \n",
            " 5   DegreeBranch             13645 non-null  object \n",
            " 6   GraduatingInstitute      13645 non-null  object \n",
            " 7   LatestDegreeCGPA         13645 non-null  int64  \n",
            " 8   YearsOfExperince         13645 non-null  int64  \n",
            " 9   GraduationYear           13645 non-null  int64  \n",
            " 10  CurrentCTC               13645 non-null  int64  \n",
            " 11  ExpectedCTC              13645 non-null  int64  \n",
            " 12  MartialStatus            13645 non-null  object \n",
            " 13  EmpScore                 13645 non-null  int64  \n",
            " 14  CurrentDesignation       13645 non-null  object \n",
            " 15  CurrentCompanyType       13645 non-null  object \n",
            " 16  DepartmentInCompany      13645 non-null  object \n",
            " 17  TotalLeavesTaken         13645 non-null  int64  \n",
            " 18  BiasInfluentialFactor    13645 non-null  object \n",
            " 19  FitmentPercent           13645 non-null  float64\n",
            "dtypes: float64(1), int64(8), object(11)\n",
            "memory usage: 2.1+ MB\n"
          ],
          "name": "stdout"
        }
      ]
    },
    {
      "cell_type": "code",
      "metadata": {
        "colab": {
          "base_uri": "https://localhost:8080/"
        },
        "id": "GpLZUQrflOOr",
        "outputId": "a23c72db-e6f5-4ef0-ee3d-53c9aab8186a"
      },
      "source": [
        "## No. of unique values in each feature\n",
        "\n",
        "for i in df.drop(columns=['FitmentPercent']).columns:\n",
        "  print('{} has {} unique values'.format(i,len(df[i].unique())))"
      ],
      "execution_count": null,
      "outputs": [
        {
          "output_type": "stream",
          "text": [
            "LanguageOfCommunication has 3 unique values\n",
            "Age has 19 unique values\n",
            "Gender has 3 unique values\n",
            "JobProfileIDApplyingFor has 9 unique values\n",
            "HighestDegree has 8 unique values\n",
            "DegreeBranch has 6 unique values\n",
            "GraduatingInstitute has 3 unique values\n",
            "LatestDegreeCGPA has 7 unique values\n",
            "YearsOfExperince has 12 unique values\n",
            "GraduationYear has 12 unique values\n",
            "CurrentCTC has 25 unique values\n",
            "ExpectedCTC has 31 unique values\n",
            "MartialStatus has 2 unique values\n",
            "EmpScore has 5 unique values\n",
            "CurrentDesignation has 8 unique values\n",
            "CurrentCompanyType has 3 unique values\n",
            "DepartmentInCompany has 5 unique values\n",
            "TotalLeavesTaken has 17 unique values\n",
            "BiasInfluentialFactor has 10 unique values\n"
          ],
          "name": "stdout"
        }
      ]
    },
    {
      "cell_type": "markdown",
      "metadata": {
        "id": "jJeQYY08rrQu"
      },
      "source": [
        "most of the columns have no more than 25 features "
      ]
    },
    {
      "cell_type": "code",
      "metadata": {
        "colab": {
          "base_uri": "https://localhost:8080/",
          "height": 1000
        },
        "id": "NnNBx2bprqnu",
        "outputId": "abf40fe2-7cd8-45d1-a26f-d0e678644924"
      },
      "source": [
        "## plotting median FitmentPercent by different categories in each feature\n",
        "import matplotlib.pyplot as plt\n",
        "import seaborn as sns\n",
        "for i in df.drop(columns=['FitmentPercent']).columns:\n",
        "  temp=df.groupby(i).FitmentPercent.agg('median').reset_index()\n",
        "  sns.barplot(temp[i],temp['FitmentPercent'])\n",
        "  plt.rcParams[\"figure.figsize\"]=10,10 ##for legibility\n",
        "  plt.show()\n",
        "  \n"
      ],
      "execution_count": null,
      "outputs": [
        {
          "output_type": "stream",
          "text": [
            "/usr/local/lib/python3.7/dist-packages/seaborn/_decorators.py:43: FutureWarning: Pass the following variables as keyword args: x, y. From version 0.12, the only valid positional argument will be `data`, and passing other arguments without an explicit keyword will result in an error or misinterpretation.\n",
            "  FutureWarning\n"
          ],
          "name": "stderr"
        },
        {
          "output_type": "display_data",
          "data": {
            "image/png": "[encoded data removed]",
            "text/plain": [
              "<Figure size 720x720 with 1 Axes>"
            ]
          },
          "metadata": {
            "tags": [],
            "needs_background": "light"
          }
        },
        {
          "output_type": "stream",
          "text": [
            "/usr/local/lib/python3.7/dist-packages/seaborn/_decorators.py:43: FutureWarning: Pass the following variables as keyword args: x, y. From version 0.12, the only valid positional argument will be `data`, and passing other arguments without an explicit keyword will result in an error or misinterpretation.\n",
            "  FutureWarning\n"
          ],
          "name": "stderr"
        },
        {
          "output_type": "display_data",
          "data": {
            "image/png": "[encoded data removed]",
            "text/plain": [
              "<Figure size 720x720 with 1 Axes>"
            ]
          },
          "metadata": {
            "tags": [],
            "needs_background": "light"
          }
        },
        {
          "output_type": "stream",
          "text": [
            "/usr/local/lib/python3.7/dist-packages/seaborn/_decorators.py:43: FutureWarning: Pass the following variables as keyword args: x, y. From version 0.12, the only valid positional argument will be `data`, and passing other arguments without an explicit keyword will result in an error or misinterpretation.\n",
            "  FutureWarning\n"
          ],
          "name": "stderr"
        },
        {
          "output_type": "display_data",
          "data": {
            "image/png": "[encoded data removed]",
            "text/plain": [
              "<Figure size 720x720 with 1 Axes>"
            ]
          },
          "metadata": {
            "tags": [],
            "needs_background": "light"
          }
        },
        {
          "output_type": "stream",
          "text": [
            "/usr/local/lib/python3.7/dist-packages/seaborn/_decorators.py:43: FutureWarning: Pass the following variables as keyword args: x, y. From version 0.12, the only valid positional argument will be `data`, and passing other arguments without an explicit keyword will result in an error or misinterpretation.\n",
            "  FutureWarning\n"
          ],
          "name": "stderr"
        },
        {
          "output_type": "display_data",
          "data": {
            "image/png": "[encoded data removed]",
            "text/plain": [
              "<Figure size 720x720 with 1 Axes>"
            ]
          },
          "metadata": {
            "tags": [],
            "needs_background": "light"
          }
        },
        {
          "output_type": "stream",
          "text": [
            "/usr/local/lib/python3.7/dist-packages/seaborn/_decorators.py:43: FutureWarning: Pass the following variables as keyword args: x, y. From version 0.12, the only valid positional argument will be `data`, and passing other arguments without an explicit keyword will result in an error or misinterpretation.\n",
            "  FutureWarning\n"
          ],
          "name": "stderr"
        },
        {
          "output_type": "display_data",
          "data": {
            "image/png": "[encoded data removed]",
            "text/plain": [
              "<Figure size 720x720 with 1 Axes>"
            ]
          },
          "metadata": {
            "tags": [],
            "needs_background": "light"
          }
        },
        {
          "output_type": "stream",
          "text": [
            "/usr/local/lib/python3.7/dist-packages/seaborn/_decorators.py:43: FutureWarning: Pass the following variables as keyword args: x, y. From version 0.12, the only valid positional argument will be `data`, and passing other arguments without an explicit keyword will result in an error or misinterpretation.\n",
            "  FutureWarning\n"
          ],
          "name": "stderr"
        },
        {
          "output_type": "display_data",
          "data": {
            "image/png": "[encoded data removed]",
            "text/plain": [
              "<Figure size 720x720 with 1 Axes>"
            ]
          },
          "metadata": {
            "tags": [],
            "needs_background": "light"
          }
        },
        {
          "output_type": "stream",
          "text": [
            "/usr/local/lib/python3.7/dist-packages/seaborn/_decorators.py:43: FutureWarning: Pass the following variables as keyword args: x, y. From version 0.12, the only valid positional argument will be `data`, and passing other arguments without an explicit keyword will result in an error or misinterpretation.\n",
            "  FutureWarning\n"
          ],
          "name": "stderr"
        },
        {
          "output_type": "display_data",
          "data": {
            "image/png": "[encoded data removed]",
            "text/plain": [
              "<Figure size 720x720 with 1 Axes>"
            ]
          },
          "metadata": {
            "tags": [],
            "needs_background": "light"
          }
        },
        {
          "output_type": "stream",
          "text": [
            "/usr/local/lib/python3.7/dist-packages/seaborn/_decorators.py:43: FutureWarning: Pass the following variables as keyword args: x, y. From version 0.12, the only valid positional argument will be `data`, and passing other arguments without an explicit keyword will result in an error or misinterpretation.\n",
            "  FutureWarning\n"
          ],
          "name": "stderr"
        },
        {
          "output_type": "display_data",
          "data": {
            "image/png": "[encoded data removed]",
            "text/plain": [
              "<Figure size 720x720 with 1 Axes>"
            ]
          },
          "metadata": {
            "tags": [],
            "needs_background": "light"
          }
        },
        {
          "output_type": "stream",
          "text": [
            "/usr/local/lib/python3.7/dist-packages/seaborn/_decorators.py:43: FutureWarning: Pass the following variables as keyword args: x, y. From version 0.12, the only valid positional argument will be `data`, and passing other arguments without an explicit keyword will result in an error or misinterpretation.\n",
            "  FutureWarning\n"
          ],
          "name": "stderr"
        },
        {
          "output_type": "display_data",
          "data": {
            "image/png": "[encoded data removed]",
            "text/plain": [
              "<Figure size 720x720 with 1 Axes>"
            ]
          },
          "metadata": {
            "tags": [],
            "needs_background": "light"
          }
        },
        {
          "output_type": "stream",
          "text": [
            "/usr/local/lib/python3.7/dist-packages/seaborn/_decorators.py:43: FutureWarning: Pass the following variables as keyword args: x, y. From version 0.12, the only valid positional argument will be `data`, and passing other arguments without an explicit keyword will result in an error or misinterpretation.\n",
            "  FutureWarning\n"
          ],
          "name": "stderr"
        },
        {
          "output_type": "display_data",
          "data": {
            "image/png": "[encoded data removed]",
            "text/plain": [
              "<Figure size 720x720 with 1 Axes>"
            ]
          },
          "metadata": {
            "tags": [],
            "needs_background": "light"
          }
        },
        {
          "output_type": "stream",
          "text": [
            "/usr/local/lib/python3.7/dist-packages/seaborn/_decorators.py:43: FutureWarning: Pass the following variables as keyword args: x, y. From version 0.12, the only valid positional argument will be `data`, and passing other arguments without an explicit keyword will result in an error or misinterpretation.\n",
            "  FutureWarning\n"
          ],
          "name": "stderr"
        },
        {
          "output_type": "display_data",
          "data": {
            "image/png": "[encoded data removed]",
            "text/plain": [
              "<Figure size 720x720 with 1 Axes>"
            ]
          },
          "metadata": {
            "tags": [],
            "needs_background": "light"
          }
        },
        {
          "output_type": "stream",
          "text": [
            "/usr/local/lib/python3.7/dist-packages/seaborn/_decorators.py:43: FutureWarning: Pass the following variables as keyword args: x, y. From version 0.12, the only valid positional argument will be `data`, and passing other arguments without an explicit keyword will result in an error or misinterpretation.\n",
            "  FutureWarning\n"
          ],
          "name": "stderr"
        },
        {
          "output_type": "display_data",
          "data": {
            "image/png": "[encoded data removed]",
            "text/plain": [
              "<Figure size 720x720 with 1 Axes>"
            ]
          },
          "metadata": {
            "tags": [],
            "needs_background": "light"
          }
        },
        {
          "output_type": "stream",
          "text": [
            "/usr/local/lib/python3.7/dist-packages/seaborn/_decorators.py:43: FutureWarning: Pass the following variables as keyword args: x, y. From version 0.12, the only valid positional argument will be `data`, and passing other arguments without an explicit keyword will result in an error or misinterpretation.\n",
            "  FutureWarning\n"
          ],
          "name": "stderr"
        },
        {
          "output_type": "display_data",
          "data": {
            "image/png": "[encoded data removed]",
            "text/plain": [
              "<Figure size 720x720 with 1 Axes>"
            ]
          },
          "metadata": {
            "tags": [],
            "needs_background": "light"
          }
        },
        {
          "output_type": "stream",
          "text": [
            "/usr/local/lib/python3.7/dist-packages/seaborn/_decorators.py:43: FutureWarning: Pass the following variables as keyword args: x, y. From version 0.12, the only valid positional argument will be `data`, and passing other arguments without an explicit keyword will result in an error or misinterpretation.\n",
            "  FutureWarning\n"
          ],
          "name": "stderr"
        },
        {
          "output_type": "display_data",
          "data": {
            "image/png": "[encoded data removed]",
            "text/plain": [
              "<Figure size 720x720 with 1 Axes>"
            ]
          },
          "metadata": {
            "tags": [],
            "needs_background": "light"
          }
        },
        {
          "output_type": "stream",
          "text": [
            "/usr/local/lib/python3.7/dist-packages/seaborn/_decorators.py:43: FutureWarning: Pass the following variables as keyword args: x, y. From version 0.12, the only valid positional argument will be `data`, and passing other arguments without an explicit keyword will result in an error or misinterpretation.\n",
            "  FutureWarning\n"
          ],
          "name": "stderr"
        },
        {
          "output_type": "display_data",
          "data": {
            "image/png": "[encoded data removed]",
            "text/plain": [
              "<Figure size 720x720 with 1 Axes>"
            ]
          },
          "metadata": {
            "tags": [],
            "needs_background": "light"
          }
        },
        {
          "output_type": "stream",
          "text": [
            "/usr/local/lib/python3.7/dist-packages/seaborn/_decorators.py:43: FutureWarning: Pass the following variables as keyword args: x, y. From version 0.12, the only valid positional argument will be `data`, and passing other arguments without an explicit keyword will result in an error or misinterpretation.\n",
            "  FutureWarning\n"
          ],
          "name": "stderr"
        },
        {
          "output_type": "display_data",
          "data": {
            "image/png": "[encoded data removed]",
            "text/plain": [
              "<Figure size 720x720 with 1 Axes>"
            ]
          },
          "metadata": {
            "tags": [],
            "needs_background": "light"
          }
        },
        {
          "output_type": "stream",
          "text": [
            "/usr/local/lib/python3.7/dist-packages/seaborn/_decorators.py:43: FutureWarning: Pass the following variables as keyword args: x, y. From version 0.12, the only valid positional argument will be `data`, and passing other arguments without an explicit keyword will result in an error or misinterpretation.\n",
            "  FutureWarning\n"
          ],
          "name": "stderr"
        },
        {
          "output_type": "display_data",
          "data": {
            "image/png": "[encoded data removed]",
            "text/plain": [
              "<Figure size 720x720 with 1 Axes>"
            ]
          },
          "metadata": {
            "tags": [],
            "needs_background": "light"
          }
        },
        {
          "output_type": "stream",
          "text": [
            "/usr/local/lib/python3.7/dist-packages/seaborn/_decorators.py:43: FutureWarning: Pass the following variables as keyword args: x, y. From version 0.12, the only valid positional argument will be `data`, and passing other arguments without an explicit keyword will result in an error or misinterpretation.\n",
            "  FutureWarning\n"
          ],
          "name": "stderr"
        },
        {
          "output_type": "display_data",
          "data": {
            "image/png": "[encoded data removed]",
            "text/plain": [
              "<Figure size 720x720 with 1 Axes>"
            ]
          },
          "metadata": {
            "tags": [],
            "needs_background": "light"
          }
        },
        {
          "output_type": "stream",
          "text": [
            "/usr/local/lib/python3.7/dist-packages/seaborn/_decorators.py:43: FutureWarning: Pass the following variables as keyword args: x, y. From version 0.12, the only valid positional argument will be `data`, and passing other arguments without an explicit keyword will result in an error or misinterpretation.\n",
            "  FutureWarning\n"
          ],
          "name": "stderr"
        },
        {
          "output_type": "display_data",
          "data": {
            "image/png": "[encoded data removed]",
            "text/plain": [
              "<Figure size 720x720 with 1 Axes>"
            ]
          },
          "metadata": {
            "tags": [],
            "needs_background": "light"
          }
        }
      ]
    },
    {
      "cell_type": "markdown",
      "metadata": {
        "id": "karClkIJ4oPk"
      },
      "source": [
        "By looking at differences in category medians of total fitmentpercent we can dig a little deeper and investigate their relationship"
      ]
    },
    {
      "cell_type": "code",
      "metadata": {
        "colab": {
          "base_uri": "https://localhost:8080/"
        },
        "id": "ZB81r2qkk5dG",
        "outputId": "e2f62960-63f8-467d-9abf-f568460ad837"
      },
      "source": [
        "## Hypothesis testing to see if the categories in the categorical freatures have a relationship to our target feature FitmentPercent\n",
        "\n",
        "\n",
        "from scipy.stats import ttest_ind\n",
        "\n",
        "inde=df.drop(columns=['FitmentPercent'])\n",
        "\n",
        "for i in inde:\n",
        "  p_vals={}\n",
        "\n",
        "  for j in df[i].unique():\n",
        "\n",
        "    ff=list(df[df[i]==j]['FitmentPercent'])\n",
        "    ll=list(df['FitmentPercent'])\n",
        "    _,p=ttest_ind(ff,ll)\n",
        "    p_vals[j]=p\n",
        "  print(i,p_vals)\n",
        "  print(' ')\n",
        "\n",
        "\n",
        "##signinficance value 0.05"
      ],
      "execution_count": null,
      "outputs": [
        {
          "output_type": "stream",
          "text": [
            "LanguageOfCommunication {'English': 0.8177320638255897, 'Native': 0.7440832150277212, 'Hindi': 0.6358091847559029}\n",
            " \n",
            "Age {35: 0.7961760300048738, 26: 0.5922482096684518, 36: 0.590747369225243, 29: 0.7042601962743786, 25: 0.3952309450097701, 31: 0.6690601645021224, 32: 0.7009527820571244, 28: 0.43071237268768303, 30: 0.8075671844846584, 27: 0.6032360054224328, 34: 0.6368369669676917, 33: 0.7011440285972916, 24: 0.27752644903130697, 37: 0.2851792798016173, 38: 0.5566548938951885, 42: 0.34388085140037494, 41: 0.8544885486890375, 40: 0.003732349178432333, 39: 0.23314587026719655}\n",
            " \n",
            "Gender {'Male': 0.06465284388617851, 'Female': 2.5046807288826276e-60, 'Other': 0.0}\n",
            " \n",
            "JobProfileIDApplyingFor {'JR85289': 0.35233175715295584, 'JR87525': 0.9926314077096641, 'JR70175': 0.954304594977353, 'JR88879': 0.4470983018827972, 'JR88873': 0.08298616611904934, 'JR89890': 0.5185814512665088, 'JR81165': 0.3634977531750039, 'JR79193': 0.060136167736005185, 'JR88654': 0.39970319019751754}\n",
            " \n",
            "HighestDegree {'B.Tech': 0.44284630824149596, 'PhD': 0.08481074216829669, 'BCA': 0.6284778987990417, 'Dual M.Tech': 0.9206124608501296, 'M.Tech': 0.8557362877416668, 'MS': 0.9069908429449074, 'Dual MBA': 0.20922348751216804, 'MCA': 0.09980514862021167}\n",
            " \n",
            "DegreeBranch {'Electrical': 0.6565125196920296, 'Artificial Intelligence': 0.6370791259481284, 'Computer Science': 0.3697386217881845, 'Information Technology': 0.9509458172199545, 'Electronics': 0.3523215161285723, 'Electrical and Electronics': 0.4402844902523657}\n",
            " \n",
            "GraduatingInstitute {'Tier 1': 0.9084956203373054, 'Tier 3': 0.3082997540836342, 'Tier 2': 0.5988067414156177}\n",
            " \n",
            "LatestDegreeCGPA {7: 0.08055166352235807, 6: 0.8048407389958455, 5: 0.4210617160052186, 8: 0.0691273469160615, 9: 0.4313273302279198, 4: 0.36729234722388593, 10: 0.8137501750275842}\n",
            " \n",
            "YearsOfExperince {12: 0.6830436500262491, 3: 0.4753111615503728, 6: 0.30821980144263816, 2: 0.8933408601535728, 1: 0.09522855800990453, 9: 0.3766376342035471, 8: 0.9615164613371594, 5: 0.6880960921829451, 4: 0.9188425900074368, 7: 0.9510194713601248, 11: 0.920676490254402, 10: 0.8107536835126581}\n",
            " \n",
            "GraduationYear {2009: 0.6830436500262491, 2018: 0.4753111615503728, 2015: 0.30821980144263816, 2019: 0.8933408601535728, 2020: 0.09522855800990453, 2012: 0.3766376342035471, 2013: 0.9615164613371594, 2016: 0.6880960921829451, 2017: 0.9188425900074368, 2014: 0.9510194713601248, 2010: 0.920676490254402, 2011: 0.8107536835126581}\n",
            " \n",
            "CurrentCTC {21: 0.0003459094193116239, 15: 0.3217882842796288, 16: 2.427295997538424e-07, 24: 0.00013416851702544277, 25: 0.0002457077969105487, 12: 0.007930153036997716, 7: 7.352596281963019e-05, 9: 0.0004959666299560434, 17: 9.867747072443185e-05, 23: 4.132830016736711e-06, 22: 9.136401344828384e-07, 18: 4.7585812400430456e-05, 8: 0.04786153774166415, 20: 0.00033530909858492267, 19: 0.0006078047400157653, 28: 0.00070730118498969, 11: 0.00020985703268542919, 26: 4.69974606368027e-08, 27: 9.151454668918141e-05, 6: 0.05803056411051123, 14: 0.008021695500068919, 10: 3.1562991440602495e-05, 29: 1.3561366680653939e-05, 13: 4.708681362256511e-06, 30: 3.266923475100362e-08}\n",
            " \n",
            "ExpectedCTC {26: 0.02223229100871259, 19: 0.0007647575955504091, 24: 0.9189520867174874, 32: 0.002759924195463579, 29: 0.0013017060564657716, 21: 0.0008275217140110183, 17: 0.0057157202968682146, 28: 0.0407529109714761, 31: 4.312443356503054e-05, 16: 0.0011440852987658937, 33: 3.5757206597190793e-06, 27: 0.6713867525405244, 18: 4.4807755555722865e-05, 15: 0.010235177777065748, 22: 0.010445969462915351, 37: 6.5379128583265206e-06, 23: 0.001906043189062662, 35: 0.00010431374778934117, 25: 0.003295217238127204, 13: 7.012725051659313e-05, 20: 3.765870571634506e-05, 14: 0.006957195221007815, 36: 4.0636586806451455e-05, 12: 0.11504759580726948, 39: 0.11845084124852487, 38: 0.011460872085686373, 30: 8.466676255125478e-09, 34: 6.127168850961408e-05, 11: 0.8776121358079109, 40: 0.07097417984377374, 10: 0.38595372273175177}\n",
            " \n",
            "MartialStatus {'Married': 0.5567221179824957, 'Single': 0.2751777293964835}\n",
            " \n",
            "EmpScore {5: 6.930197466280732e-17, 4: 1.3885061891115509e-22, 3: 1.3541239013435756e-19, 2: 3.1956596626555645e-07, 1: 7.664502563171666e-07}\n",
            " \n",
            "CurrentDesignation {'SSE': 0.9870792934249493, 'BA': 0.40899355708790375, 'SDE': 0.920168616550614, 'DS': 0.463968576294046, 'EM': 0.8335835081937696, 'DA': 0.25488219306660326, 'SEM': 0.32653417349341685, 'DE': 0.1588447149652453}\n",
            " \n",
            "CurrentCompanyType {'Enterprise': 4.0638612588109908e-224, 'MidSized': 2.534556991184953e-48, 'Startup': 5.774031980760368e-85}\n",
            " \n",
            "DepartmentInCompany {'Design': 0.314850154614414, 'Engineering': 0.5993441197348874, 'Product': 0.6108395693967852, 'Customer Success': 0.3378470296906636, 'Finance': 0.7684532490170756}\n",
            " \n",
            "TotalLeavesTaken {20: 0.17086459174377036, 6: 0.5439992580803115, 19: 0.8991053281481275, 16: 0.8323280619772158, 10: 0.8538752263733002, 8: 0.26787540900951196, 18: 0.5697423662225847, 7: 0.2681835832764034, 5: 0.8517109802001215, 12: 0.5311030146919824, 9: 0.23091866936245725, 14: 0.8452566556862833, 11: 0.27100318117633315, 15: 0.9285948753734763, 13: 0.4598741005851441, 4: 0.9581337159684544, 17: 0.3142643897691552}\n",
            " \n",
            "BiasInfluentialFactor {'YearsOfExperince': 2.976767846401641e-86, '': 0.0, 'Gender': 2.9125761326091534e-94, 'DegreeBranch': 2.741563811663222e-172, 'CurrentCompanyType': 3.8119328855895774e-27, 'MartialStatus': 2.1715193021868134e-24, 'HighestDegree': 5.1573695928169825e-42, 'EmpScore': 1.2704599259740661e-65, 'Ethinicity': 1.0909866471039618e-35, 'LatestDegreeCGPA': 1.5022640010591989e-32}\n",
            " \n"
          ],
          "name": "stdout"
        }
      ]
    },
    {
      "cell_type": "markdown",
      "metadata": {
        "id": "TlR60Gg820q1"
      },
      "source": [
        "By our Hypothesis test taking the significance value 0f 0.05 into account it can be inferred that there is a relationship between out target cariable fitmentPercent and *Gender,CurrentCTC,ExpectedCTC,EmpScore,CurrentCompanyType,BiasInfluentialFactor*"
      ]
    },
    {
      "cell_type": "code",
      "metadata": {
        "colab": {
          "base_uri": "https://localhost:8080/",
          "height": 679
        },
        "id": "YjxMLTvlIwT-",
        "outputId": "9cc7e578-2a92-44fd-89d2-4c51e7a24c1d"
      },
      "source": [
        "##Getting the correlation of numerical features in the dataset\n",
        "import seaborn as sns\n",
        "k=df.corr()\n",
        "\n",
        "\n",
        "\n"
      ],
      "execution_count": null,
      "outputs": [
        {
          "output_type": "display_data",
          "data": {
            "image/png": "[encoded data removed]",
            "text/plain": [
              "<Figure size 720x720 with 2 Axes>"
            ]
          },
          "metadata": {
            "tags": [],
            "needs_background": "light"
          }
        }
      ]
    },
    {
      "cell_type": "code",
      "metadata": {
        "colab": {
          "base_uri": "https://localhost:8080/"
        },
        "id": "499W4Rs7Msc_",
        "outputId": "7eefcb31-11d4-447e-cc68-fae204cf7a96"
      },
      "source": [
        "##Looking at cases of multicollinearity\n",
        "\n",
        "independent=df.select_dtypes(include='int64')\n",
        "\n",
        "for cols in independent.columns:\n",
        "  for i in independent.columns:\n",
        "    if abs(independent[cols].corr(independent[i]))>0.5 and i!=cols:\n",
        "      print(i,cols,independent[cols].corr(independent[i]))"
      ],
      "execution_count": null,
      "outputs": [
        {
          "output_type": "stream",
          "text": [
            "YearsOfExperince Age 0.8798192204078339\n",
            "GraduationYear Age -0.8798192204078354\n",
            "Age YearsOfExperince 0.8798192204078339\n",
            "GraduationYear YearsOfExperince -1.0\n",
            "Age GraduationYear -0.8798192204078353\n",
            "YearsOfExperince GraduationYear -1.0\n",
            "ExpectedCTC CurrentCTC 0.9633675109714679\n",
            "CurrentCTC ExpectedCTC 0.9633675109714679\n"
          ],
          "name": "stdout"
        }
      ]
    },
    {
      "cell_type": "markdown",
      "metadata": {
        "id": "VKiEipFv5e2V"
      },
      "source": [
        "As we have gotten the pairs of correlated features we can drop one of each pair to avoid discrepencies in the model"
      ]
    },
    {
      "cell_type": "code",
      "metadata": {
        "id": "pzV0XKGSk97c"
      },
      "source": [
        "##Looking at multi-collinearity we can remove YearsOfEXperience,Graduation,ExpectedCTC\n",
        "backup=df.copy()\n",
        "df.drop(columns=['YearsOfExperince','GraduationYear','ExpectedCTC'],inplace=True)"
      ],
      "execution_count": null,
      "outputs": []
    },
    {
      "cell_type": "code",
      "metadata": {
        "colab": {
          "base_uri": "https://localhost:8080/",
          "height": 290
        },
        "id": "aDXXDrPw9uIw",
        "outputId": "cadc54cb-9833-41d2-f1ac-6c8e8cfb25da"
      },
      "source": [
        "backup.head()"
      ],
      "execution_count": null,
      "outputs": [
        {
          "output_type": "execute_result",
          "data": {
            "text/html": [
              "<div>\n",
              "<style scoped>\n",
              "    .dataframe tbody tr th:only-of-type {\n",
              "        vertical-align: middle;\n",
              "    }\n",
              "\n",
              "    .dataframe tbody tr th {\n",
              "        vertical-align: top;\n",
              "    }\n",
              "\n",
              "    .dataframe thead th {\n",
              "        text-align: right;\n",
              "    }\n",
              "</style>\n",
              "<table border=\"1\" class=\"dataframe\">\n",
              "  <thead>\n",
              "    <tr style=\"text-align: right;\">\n",
              "      <th></th>\n",
              "      <th>LanguageOfCommunication</th>\n",
              "      <th>Age</th>\n",
              "      <th>Gender</th>\n",
              "      <th>JobProfileIDApplyingFor</th>\n",
              "      <th>HighestDegree</th>\n",
              "      <th>DegreeBranch</th>\n",
              "      <th>GraduatingInstitute</th>\n",
              "      <th>LatestDegreeCGPA</th>\n",
              "      <th>YearsOfExperince</th>\n",
              "      <th>GraduationYear</th>\n",
              "      <th>CurrentCTC</th>\n",
              "      <th>ExpectedCTC</th>\n",
              "      <th>MartialStatus</th>\n",
              "      <th>EmpScore</th>\n",
              "      <th>CurrentDesignation</th>\n",
              "      <th>CurrentCompanyType</th>\n",
              "      <th>DepartmentInCompany</th>\n",
              "      <th>TotalLeavesTaken</th>\n",
              "      <th>BiasInfluentialFactor</th>\n",
              "      <th>FitmentPercent</th>\n",
              "    </tr>\n",
              "  </thead>\n",
              "  <tbody>\n",
              "    <tr>\n",
              "      <th>0</th>\n",
              "      <td>English</td>\n",
              "      <td>35</td>\n",
              "      <td>Male</td>\n",
              "      <td>JR85289</td>\n",
              "      <td>B.Tech</td>\n",
              "      <td>Electrical</td>\n",
              "      <td>Tier 1</td>\n",
              "      <td>7</td>\n",
              "      <td>12</td>\n",
              "      <td>2009</td>\n",
              "      <td>21</td>\n",
              "      <td>26</td>\n",
              "      <td>Married</td>\n",
              "      <td>5</td>\n",
              "      <td>SSE</td>\n",
              "      <td>Enterprise</td>\n",
              "      <td>Design</td>\n",
              "      <td>20</td>\n",
              "      <td>YearsOfExperince</td>\n",
              "      <td>95.40</td>\n",
              "    </tr>\n",
              "    <tr>\n",
              "      <th>1</th>\n",
              "      <td>English</td>\n",
              "      <td>26</td>\n",
              "      <td>Male</td>\n",
              "      <td>JR87525</td>\n",
              "      <td>B.Tech</td>\n",
              "      <td>Artificial Intelligence</td>\n",
              "      <td>Tier 3</td>\n",
              "      <td>7</td>\n",
              "      <td>3</td>\n",
              "      <td>2018</td>\n",
              "      <td>15</td>\n",
              "      <td>19</td>\n",
              "      <td>Married</td>\n",
              "      <td>5</td>\n",
              "      <td>BA</td>\n",
              "      <td>MidSized</td>\n",
              "      <td>Engineering</td>\n",
              "      <td>6</td>\n",
              "      <td></td>\n",
              "      <td>67.09</td>\n",
              "    </tr>\n",
              "    <tr>\n",
              "      <th>2</th>\n",
              "      <td>English</td>\n",
              "      <td>36</td>\n",
              "      <td>Female</td>\n",
              "      <td>JR87525</td>\n",
              "      <td>PhD</td>\n",
              "      <td>Computer Science</td>\n",
              "      <td>Tier 1</td>\n",
              "      <td>6</td>\n",
              "      <td>6</td>\n",
              "      <td>2015</td>\n",
              "      <td>15</td>\n",
              "      <td>24</td>\n",
              "      <td>Single</td>\n",
              "      <td>5</td>\n",
              "      <td>SDE</td>\n",
              "      <td>MidSized</td>\n",
              "      <td>Engineering</td>\n",
              "      <td>19</td>\n",
              "      <td>Gender</td>\n",
              "      <td>91.26</td>\n",
              "    </tr>\n",
              "    <tr>\n",
              "      <th>3</th>\n",
              "      <td>English</td>\n",
              "      <td>29</td>\n",
              "      <td>Female</td>\n",
              "      <td>JR87525</td>\n",
              "      <td>BCA</td>\n",
              "      <td>Information Technology</td>\n",
              "      <td>Tier 2</td>\n",
              "      <td>5</td>\n",
              "      <td>6</td>\n",
              "      <td>2015</td>\n",
              "      <td>16</td>\n",
              "      <td>24</td>\n",
              "      <td>Married</td>\n",
              "      <td>5</td>\n",
              "      <td>SDE</td>\n",
              "      <td>Startup</td>\n",
              "      <td>Product</td>\n",
              "      <td>16</td>\n",
              "      <td>Gender</td>\n",
              "      <td>72.29</td>\n",
              "    </tr>\n",
              "    <tr>\n",
              "      <th>4</th>\n",
              "      <td>English</td>\n",
              "      <td>25</td>\n",
              "      <td>Male</td>\n",
              "      <td>JR70175</td>\n",
              "      <td>Dual M.Tech</td>\n",
              "      <td>Computer Science</td>\n",
              "      <td>Tier 3</td>\n",
              "      <td>8</td>\n",
              "      <td>2</td>\n",
              "      <td>2019</td>\n",
              "      <td>24</td>\n",
              "      <td>32</td>\n",
              "      <td>Married</td>\n",
              "      <td>5</td>\n",
              "      <td>SDE</td>\n",
              "      <td>Enterprise</td>\n",
              "      <td>Engineering</td>\n",
              "      <td>10</td>\n",
              "      <td>DegreeBranch</td>\n",
              "      <td>86.34</td>\n",
              "    </tr>\n",
              "  </tbody>\n",
              "</table>\n",
              "</div>"
            ],
            "text/plain": [
              "  LanguageOfCommunication  Age  ... BiasInfluentialFactor FitmentPercent\n",
              "0                 English   35  ...      YearsOfExperince          95.40\n",
              "1                 English   26  ...                                67.09\n",
              "2                 English   36  ...                Gender          91.26\n",
              "3                 English   29  ...                Gender          72.29\n",
              "4                 English   25  ...          DegreeBranch          86.34\n",
              "\n",
              "[5 rows x 20 columns]"
            ]
          },
          "metadata": {
            "tags": []
          },
          "execution_count": 253
        }
      ]
    },
    {
      "cell_type": "code",
      "metadata": {
        "colab": {
          "base_uri": "https://localhost:8080/",
          "height": 290
        },
        "id": "wt_J8K5u46gj",
        "outputId": "858bf3d9-b13f-479a-8d66-8b895cb85da0"
      },
      "source": [
        "df.head()"
      ],
      "execution_count": null,
      "outputs": [
        {
          "output_type": "execute_result",
          "data": {
            "text/html": [
              "<div>\n",
              "<style scoped>\n",
              "    .dataframe tbody tr th:only-of-type {\n",
              "        vertical-align: middle;\n",
              "    }\n",
              "\n",
              "    .dataframe tbody tr th {\n",
              "        vertical-align: top;\n",
              "    }\n",
              "\n",
              "    .dataframe thead th {\n",
              "        text-align: right;\n",
              "    }\n",
              "</style>\n",
              "<table border=\"1\" class=\"dataframe\">\n",
              "  <thead>\n",
              "    <tr style=\"text-align: right;\">\n",
              "      <th></th>\n",
              "      <th>LanguageOfCommunication</th>\n",
              "      <th>Age</th>\n",
              "      <th>Gender</th>\n",
              "      <th>JobProfileIDApplyingFor</th>\n",
              "      <th>HighestDegree</th>\n",
              "      <th>DegreeBranch</th>\n",
              "      <th>GraduatingInstitute</th>\n",
              "      <th>LatestDegreeCGPA</th>\n",
              "      <th>CurrentCTC</th>\n",
              "      <th>MartialStatus</th>\n",
              "      <th>EmpScore</th>\n",
              "      <th>CurrentDesignation</th>\n",
              "      <th>CurrentCompanyType</th>\n",
              "      <th>DepartmentInCompany</th>\n",
              "      <th>TotalLeavesTaken</th>\n",
              "      <th>BiasInfluentialFactor</th>\n",
              "      <th>FitmentPercent</th>\n",
              "    </tr>\n",
              "  </thead>\n",
              "  <tbody>\n",
              "    <tr>\n",
              "      <th>0</th>\n",
              "      <td>English</td>\n",
              "      <td>35</td>\n",
              "      <td>Male</td>\n",
              "      <td>JR85289</td>\n",
              "      <td>B.Tech</td>\n",
              "      <td>Electrical</td>\n",
              "      <td>Tier 1</td>\n",
              "      <td>7</td>\n",
              "      <td>21</td>\n",
              "      <td>Married</td>\n",
              "      <td>5</td>\n",
              "      <td>SSE</td>\n",
              "      <td>Enterprise</td>\n",
              "      <td>Design</td>\n",
              "      <td>20</td>\n",
              "      <td>YearsOfExperince</td>\n",
              "      <td>95.40</td>\n",
              "    </tr>\n",
              "    <tr>\n",
              "      <th>1</th>\n",
              "      <td>English</td>\n",
              "      <td>26</td>\n",
              "      <td>Male</td>\n",
              "      <td>JR87525</td>\n",
              "      <td>B.Tech</td>\n",
              "      <td>Artificial Intelligence</td>\n",
              "      <td>Tier 3</td>\n",
              "      <td>7</td>\n",
              "      <td>15</td>\n",
              "      <td>Married</td>\n",
              "      <td>5</td>\n",
              "      <td>BA</td>\n",
              "      <td>MidSized</td>\n",
              "      <td>Engineering</td>\n",
              "      <td>6</td>\n",
              "      <td></td>\n",
              "      <td>67.09</td>\n",
              "    </tr>\n",
              "    <tr>\n",
              "      <th>2</th>\n",
              "      <td>English</td>\n",
              "      <td>36</td>\n",
              "      <td>Female</td>\n",
              "      <td>JR87525</td>\n",
              "      <td>PhD</td>\n",
              "      <td>Computer Science</td>\n",
              "      <td>Tier 1</td>\n",
              "      <td>6</td>\n",
              "      <td>15</td>\n",
              "      <td>Single</td>\n",
              "      <td>5</td>\n",
              "      <td>SDE</td>\n",
              "      <td>MidSized</td>\n",
              "      <td>Engineering</td>\n",
              "      <td>19</td>\n",
              "      <td>Gender</td>\n",
              "      <td>91.26</td>\n",
              "    </tr>\n",
              "    <tr>\n",
              "      <th>3</th>\n",
              "      <td>English</td>\n",
              "      <td>29</td>\n",
              "      <td>Female</td>\n",
              "      <td>JR87525</td>\n",
              "      <td>BCA</td>\n",
              "      <td>Information Technology</td>\n",
              "      <td>Tier 2</td>\n",
              "      <td>5</td>\n",
              "      <td>16</td>\n",
              "      <td>Married</td>\n",
              "      <td>5</td>\n",
              "      <td>SDE</td>\n",
              "      <td>Startup</td>\n",
              "      <td>Product</td>\n",
              "      <td>16</td>\n",
              "      <td>Gender</td>\n",
              "      <td>72.29</td>\n",
              "    </tr>\n",
              "    <tr>\n",
              "      <th>4</th>\n",
              "      <td>English</td>\n",
              "      <td>25</td>\n",
              "      <td>Male</td>\n",
              "      <td>JR70175</td>\n",
              "      <td>Dual M.Tech</td>\n",
              "      <td>Computer Science</td>\n",
              "      <td>Tier 3</td>\n",
              "      <td>8</td>\n",
              "      <td>24</td>\n",
              "      <td>Married</td>\n",
              "      <td>5</td>\n",
              "      <td>SDE</td>\n",
              "      <td>Enterprise</td>\n",
              "      <td>Engineering</td>\n",
              "      <td>10</td>\n",
              "      <td>DegreeBranch</td>\n",
              "      <td>86.34</td>\n",
              "    </tr>\n",
              "  </tbody>\n",
              "</table>\n",
              "</div>"
            ],
            "text/plain": [
              "  LanguageOfCommunication  Age  ... BiasInfluentialFactor FitmentPercent\n",
              "0                 English   35  ...      YearsOfExperince          95.40\n",
              "1                 English   26  ...                                67.09\n",
              "2                 English   36  ...                Gender          91.26\n",
              "3                 English   29  ...                Gender          72.29\n",
              "4                 English   25  ...          DegreeBranch          86.34\n",
              "\n",
              "[5 rows x 17 columns]"
            ]
          },
          "metadata": {
            "tags": []
          },
          "execution_count": 254
        }
      ]
    },
    {
      "cell_type": "code",
      "metadata": {
        "colab": {
          "base_uri": "https://localhost:8080/"
        },
        "id": "KQfZDCrO-OO6",
        "outputId": "d6e4dbcd-30ea-4c2b-a56e-7b4dd6dc594a"
      },
      "source": [
        "## Checking with chi square for correlations between \n",
        "from scipy.stats import chi2_contingency\n",
        "for i in df.drop(columns=['BiasInfluentialFactor','FitmentPercent']).columns:\n",
        "  wo=pd.crosstab(df[i],df['BiasInfluentialFactor'])\n",
        "  stat,p,dof,expected=chi2_contingency(wo)\n",
        "  print(i,'BiasInfluentialFactor',p)"
      ],
      "execution_count": null,
      "outputs": [
        {
          "output_type": "stream",
          "text": [
            "LanguageOfCommunication BiasInfluentialFactor 0.9058479204430122\n",
            "Age BiasInfluentialFactor 0.0\n",
            "Gender BiasInfluentialFactor 0.0\n",
            "JobProfileIDApplyingFor BiasInfluentialFactor 0.973671370497358\n",
            "HighestDegree BiasInfluentialFactor 0.0\n",
            "DegreeBranch BiasInfluentialFactor 0.0\n",
            "GraduatingInstitute BiasInfluentialFactor 0.7570602268048947\n",
            "LatestDegreeCGPA BiasInfluentialFactor 0.0\n",
            "CurrentCTC BiasInfluentialFactor 1.0129837614228565e-173\n",
            "MartialStatus BiasInfluentialFactor 7.042653544194885e-23\n",
            "EmpScore BiasInfluentialFactor 0.0\n",
            "CurrentDesignation BiasInfluentialFactor 0.17851244310077272\n",
            "CurrentCompanyType BiasInfluentialFactor 0.0\n",
            "DepartmentInCompany BiasInfluentialFactor 0.46605627296072666\n",
            "TotalLeavesTaken BiasInfluentialFactor 0.29716334747280476\n"
          ],
          "name": "stdout"
        }
      ]
    },
    {
      "cell_type": "markdown",
      "metadata": {
        "id": "K3aw8SzzBwj3"
      },
      "source": [
        "Setting our significance value at 0.05 it can be inferred that the features with p value less than 0.05 in our chi squared test are in some way related to BiasInfluentialFactor"
      ]
    },
    {
      "cell_type": "code",
      "metadata": {
        "colab": {
          "base_uri": "https://localhost:8080/"
        },
        "id": "nVz5o3WPkFYD",
        "outputId": "b0fc39f8-a093-44ba-9a44-9f73ce0d16ab"
      },
      "source": [
        "## Taking features correlated with the BiasInfluentialFactor\n",
        "bias_cols=[]\n",
        "for i in df.drop(columns=['BiasInfluentialFactor','FitmentPercent']).columns:\n",
        "  wo=pd.crosstab(df[i],df['BiasInfluentialFactor'])\n",
        "  stat,p,dof,expected=chi2_contingency(wo)\n",
        "  if p<0.05:\n",
        "    bias_cols.append(i)\n",
        "\n",
        "print(bias_cols)"
      ],
      "execution_count": null,
      "outputs": [
        {
          "output_type": "stream",
          "text": [
            "['Age', 'Gender', 'HighestDegree', 'DegreeBranch', 'LatestDegreeCGPA', 'CurrentCTC', 'MartialStatus', 'EmpScore', 'CurrentCompanyType']\n"
          ],
          "name": "stdout"
        }
      ]
    },
    {
      "cell_type": "code",
      "metadata": {
        "colab": {
          "base_uri": "https://localhost:8080/"
        },
        "id": "VL1nHZT1k5Px",
        "outputId": "88f3394f-c862-4533-ef41-5ef2db13d7c4"
      },
      "source": [
        "##BiasInfluentialFactor categories are similar the features we get correlated :-)\n",
        "df.BiasInfluentialFactor.value_counts()"
      ],
      "execution_count": null,
      "outputs": [
        {
          "output_type": "execute_result",
          "data": {
            "text/plain": [
              "                      3336\n",
              "DegreeBranch          2858\n",
              "Gender                2605\n",
              "YearsOfExperince      1561\n",
              "CurrentCompanyType    1174\n",
              "EmpScore               659\n",
              "HighestDegree          582\n",
              "Ethinicity             328\n",
              "MartialStatus          280\n",
              "LatestDegreeCGPA       262\n",
              "Name: BiasInfluentialFactor, dtype: int64"
            ]
          },
          "metadata": {
            "tags": []
          },
          "execution_count": 257
        }
      ]
    },
    {
      "cell_type": "markdown",
      "metadata": {
        "id": "Sbw4c0drmJt7"
      },
      "source": [
        "BiasInfluentialFactor categories are similar the features we get correlated by chi squared test\n"
      ]
    },
    {
      "cell_type": "code",
      "metadata": {
        "colab": {
          "base_uri": "https://localhost:8080/"
        },
        "id": "cpKWopQ68XTk",
        "outputId": "8c79581e-2c74-4274-a8d6-d91e4f027b9f"
      },
      "source": [
        "bias_cols"
      ],
      "execution_count": null,
      "outputs": [
        {
          "output_type": "execute_result",
          "data": {
            "text/plain": [
              "['Age',\n",
              " 'Gender',\n",
              " 'HighestDegree',\n",
              " 'DegreeBranch',\n",
              " 'LatestDegreeCGPA',\n",
              " 'CurrentCTC',\n",
              " 'MartialStatus',\n",
              " 'EmpScore',\n",
              " 'CurrentCompanyType']"
            ]
          },
          "metadata": {
            "tags": []
          },
          "execution_count": 258
        }
      ]
    },
    {
      "cell_type": "markdown",
      "metadata": {
        "id": "Tk0BiS4qKEHJ"
      },
      "source": [
        "# **FitmentPercent Regression**"
      ]
    },
    {
      "cell_type": "markdown",
      "metadata": {
        "id": "BfrsnVU-IN3Z"
      },
      "source": [
        "utility funtions for training the selected features"
      ]
    },
    {
      "cell_type": "code",
      "metadata": {
        "id": "CEPr2lQCG3V1"
      },
      "source": [
        "##RESET DATASET\n",
        "\n",
        "def back1(df,num):\n",
        "  new=df.copy()\n",
        "  if num==1:\n",
        "    new=new[['Gender','CurrentCTC','EmpScore','CurrentCompanyType']]\n",
        "  else:\n",
        "    return new.drop(columns=['FitmentPercent','BiasInfluentialFactor'])\n",
        "  \n",
        "  return new\n",
        "\n",
        "##ONE HOT ENCODER\n",
        "\n",
        "def onehot(new):\n",
        "  for i in new.select_dtypes(include='object').columns:\n",
        "    k=pd.get_dummies(new[i])\n",
        "    new=pd.concat([new,k],axis=1)\n",
        "    new.drop(columns=i,inplace=True)\n",
        "  return new\n",
        "\n",
        "##LABEL ENCODER\n",
        "\n",
        "from sklearn.preprocessing import LabelEncoder\n",
        "def label(new):\n",
        "  for i in new.select_dtypes(include='object').columns:\n",
        "    new[i]=LabelEncoder().fit_transform(new[i])\n",
        "  return new\n",
        "\n",
        "### FREQUENCY ENCODING\n",
        "\n",
        "def prob_encoder(data):\n",
        "  for feat in new.select_dtypes(include='object').columns:\n",
        "    fq = data.groupby(feat).size()/len(data)     \n",
        "    data.loc[:, \"{}_freq_encode\".format(feat)] = data[feat].map(fq)\n",
        "    data.drop(columns=[feat],inplace=True)\n",
        "  return data\n",
        "##SPLIT\n",
        "\n",
        "from sklearn.model_selection import train_test_split\n",
        "from scipy import stats\n",
        "def train_split(new):\n",
        "  xtrain,xtest,ytrain,ytest = train_test_split(new,np.log1p(df['FitmentPercent']),test_size=0.2)\n",
        "  return xtrain,xtest,ytrain,ytest\n",
        "\n",
        "##TEST\n",
        "\n",
        "from sklearn.metrics import r2_score\n",
        "from sklearn.metrics import mean_squared_error\n",
        "\n",
        "\n",
        "def test_score(xtest,lr):  \n",
        "  pred1 = lr.predict(xtest)\n",
        "  rmse = (np.sqrt(mean_squared_error(ytest, pred1)))\n",
        "  r2 = r2_score(ytest, pred1)\n",
        "  print('Testing performance')\n",
        "  print('RMSE: {:.2f}'.format(rmse))\n",
        "  print('R2: {:.2f}'.format(r2))\n"
      ],
      "execution_count": null,
      "outputs": []
    },
    {
      "cell_type": "code",
      "metadata": {
        "id": "AWSuGz5cIpur"
      },
      "source": [
        "##Lasso\n",
        "from sklearn.pipeline import make_pipeline\n",
        "from sklearn.preprocessing import StandardScaler\n",
        "from sklearn.linear_model import LassoCV\n",
        "from sklearn.model_selection import RepeatedKFold\n",
        "\n",
        "data=back1(df,2)\n",
        "data=label(data)\n",
        "xtrain,xtest,ytrain,ytest=train_split(data)\n",
        "\n",
        "\n",
        "#xtrain=StandardScaler().fit_transform(xtrain)\n",
        "#xtest=StandardScaler().fit_transform(xtest)\n",
        "\n",
        "cv = RepeatedKFold(n_splits=10, n_repeats=3, random_state=1)\n",
        "model=LassoCV(alphas=[i*0.1 for i in range(0,101)],cv=cv,n_jobs=-1)\n",
        "\n",
        "\n",
        "\n",
        "\n",
        "model.fit(xtrain,ytrain)\n"
      ],
      "execution_count": null,
      "outputs": []
    },
    {
      "cell_type": "code",
      "metadata": {
        "colab": {
          "base_uri": "https://localhost:8080/"
        },
        "id": "MWXIvLUgrQQE",
        "outputId": "52bbc644-b6fe-434e-b78b-38b7fdb25d81"
      },
      "source": [
        "test_score(xtest,model)"
      ],
      "execution_count": null,
      "outputs": [
        {
          "output_type": "stream",
          "text": [
            "Testing performance\n",
            "RMSE: 12.88\n",
            "R2: 0.28\n"
          ],
          "name": "stdout"
        }
      ]
    },
    {
      "cell_type": "code",
      "metadata": {
        "colab": {
          "base_uri": "https://localhost:8080/"
        },
        "id": "PK3AMjYr90wV",
        "outputId": "0e64f594-44ea-477a-fe6b-3887ed10303d"
      },
      "source": [
        "###Linear Regression with hypothesis tested features and one hot encoding\n",
        "\n",
        "from sklearn.metrics import r2_score,mean_squared_error\n",
        "from sklearn.linear_model import LinearRegression\n",
        "from sklearn.pipeline import make_pipeline\n",
        "from sklearn.preprocessing import StandardScaler\n",
        "new=back1(df,1)\n",
        "new=onehot(new)\n",
        "xtrain,xtest,ytrain,ytest=train_split(new)\n",
        "\n",
        "lr=make_pipeline(StandardScaler(),LinearRegression())\n",
        "lr.fit(xtrain,ytrain)\n",
        "\n",
        "test_score(xtest,lr)\n"
      ],
      "execution_count": null,
      "outputs": [
        {
          "output_type": "stream",
          "text": [
            "Testing performance\n",
            "RMSE: 0.18\n",
            "R2: 0.37\n"
          ],
          "name": "stdout"
        }
      ]
    },
    {
      "cell_type": "code",
      "metadata": {
        "colab": {
          "base_uri": "https://localhost:8080/"
        },
        "id": "yUDb5AE5JcGZ",
        "outputId": "eb2d77b6-77ab-4a4d-f3bf-08f08d0c9ad8"
      },
      "source": [
        "##SVR: Regression with hypothesis tested features and one hot encoding\n",
        "from sklearn.svm import SVR\n",
        "data=back1(df,1)\n",
        "data=onehot(data)\n",
        "xtrain,xtest,ytrain,ytest=train_split(data)\n",
        "\n",
        "\n",
        "svr=make_pipeline(StandardScaler(),SVR(C=1.0, epsilon=0.2))\n",
        "svr.fit(xtrain,ytrain)\n",
        "pred2=svr.predict(xtest)\n",
        "rmse = (np.sqrt(mean_squared_error(ytest, pred2)))\n",
        "r2 = r2_score(ytest, pred2)\n",
        "print('Testing performance')\n",
        "print('RMSE: {:.2f}'.format(rmse))\n",
        "print('R2: {:.2f}'.format(r2))\n",
        "\n"
      ],
      "execution_count": null,
      "outputs": [
        {
          "output_type": "stream",
          "text": [
            "Testing performance\n",
            "RMSE: 0.14\n",
            "R2: 0.59\n"
          ],
          "name": "stdout"
        }
      ]
    },
    {
      "cell_type": "code",
      "metadata": {
        "colab": {
          "base_uri": "https://localhost:8080/"
        },
        "id": "ggBUP8iiKikJ",
        "outputId": "829e2f9b-6ce7-465a-949d-737ee7c66cd0"
      },
      "source": [
        "##Random Forest Regression all features barring multicollinearity and label encoding them\n",
        "\n",
        "from sklearn.ensemble import RandomForestRegressor\n",
        "data=back1(df,2)\n",
        "data=label(data)\n",
        "xtrain,xtest,ytrain,ytest=train_split(data)\n",
        "\n",
        "\n",
        "rr=RandomForestRegressor(n_estimators=100)\n",
        "rr.fit(xtrain,ytrain)\n",
        "pred3=rr.predict(xtest)\n",
        "rmse = (np.sqrt(mean_squared_error(ytest, pred3)))\n",
        "r2 = r2_score(ytest, pred3)\n",
        "print('Testing performance')\n",
        "print('RMSE: {:.2f}'.format(rmse))\n",
        "print('R2: {:.2f}'.format(r2))\n",
        "\n"
      ],
      "execution_count": null,
      "outputs": [
        {
          "output_type": "stream",
          "text": [
            "Testing performance\n",
            "RMSE: 0.14\n",
            "R2: 0.60\n"
          ],
          "name": "stdout"
        }
      ]
    },
    {
      "cell_type": "markdown",
      "metadata": {
        "id": "tXoOXM5J7jPO"
      },
      "source": [
        "# **Predicting FitmentPercent on test data**"
      ]
    },
    {
      "cell_type": "code",
      "metadata": {
        "id": "eVR5AtP448_S"
      },
      "source": [
        "## Getting the test file\n",
        "\n",
        "test=pd.read_csv('/content/drive/MyDrive/personal/amazon/Test.csv')\n",
        "test=test.drop(columns=['ExpectedCTC','Age','GraduationYear','EmpID','EmpName'])\n",
        "test_svr=back1(test,1)\n",
        "test_svr=onehot(test_svr)\n",
        "test=label(test)"
      ],
      "execution_count": null,
      "outputs": []
    },
    {
      "cell_type": "code",
      "metadata": {
        "id": "GSMUXfNr51K1"
      },
      "source": [
        "## Stacking Random forest regressor along with SVM with equal weights due to similar r2 scores\n",
        "\n",
        "test['FitmentPercent']=np.expm1(rr.predict(test))*0.5 + np.expm1(svr.predict(test_svr))*0.5"
      ],
      "execution_count": null,
      "outputs": []
    },
    {
      "cell_type": "code",
      "metadata": {
        "id": "6wjMAUKN6z7A"
      },
      "source": [
        "test_real=pd.read_csv('/content/drive/MyDrive/personal/amazon/Test.csv')"
      ],
      "execution_count": null,
      "outputs": []
    },
    {
      "cell_type": "code",
      "metadata": {
        "id": "BKvkWsp76-v4"
      },
      "source": [
        "test_real['FitmentPercent']=test['FitmentPercent']"
      ],
      "execution_count": null,
      "outputs": []
    },
    {
      "cell_type": "markdown",
      "metadata": {
        "id": "RY8W5-H7V58x"
      },
      "source": [
        "# **BiasInfluence factor classification**"
      ]
    },
    {
      "cell_type": "code",
      "metadata": {
        "colab": {
          "base_uri": "https://localhost:8080/"
        },
        "id": "HBdDkdlXNTg0",
        "outputId": "2042ab46-8f3d-4944-e33f-a8224155bd9c"
      },
      "source": [
        "##As extracted durin the EDA of the data\n",
        "\n",
        "bias_cols=['Age',\n",
        " 'Gender',\n",
        " 'HighestDegree',\n",
        " 'DegreeBranch',\n",
        " 'LatestDegreeCGPA',\n",
        " 'CurrentCTC',\n",
        " 'MartialStatus',\n",
        " 'EmpScore',\n",
        " 'CurrentCompanyType',\n",
        " 'FitmentPercent',\n",
        " 'BiasInfluentialFactor']\n",
        "\n",
        "\n",
        "## Preprocessing\n",
        "\n",
        "bias=df[bias_cols]\n",
        "bias=label(bias)"
      ],
      "execution_count": null,
      "outputs": [
        {
          "output_type": "stream",
          "text": [
            "/usr/local/lib/python3.7/dist-packages/ipykernel_launcher.py:26: SettingWithCopyWarning: \n",
            "A value is trying to be set on a copy of a slice from a DataFrame.\n",
            "Try using .loc[row_indexer,col_indexer] = value instead\n",
            "\n",
            "See the caveats in the documentation: https://pandas.pydata.org/pandas-docs/stable/user_guide/indexing.html#returning-a-view-versus-a-copy\n"
          ],
          "name": "stderr"
        }
      ]
    },
    {
      "cell_type": "code",
      "metadata": {
        "id": "OcbTVzqzIlwT"
      },
      "source": [
        "##Preprocessing\n",
        "\n",
        "xtrain,xtest,ytrain,ytest=train_test_split(bias.drop(columns=['BiasInfluentialFactor']),bias['BiasInfluentialFactor'],test_size=0.2)"
      ],
      "execution_count": null,
      "outputs": []
    },
    {
      "cell_type": "code",
      "metadata": {
        "id": "S5bPYp66GxOy"
      },
      "source": [
        "##Hyperparameter tuning for the classification model\n",
        "\n",
        "from sklearn.ensemble import RandomForestClassifier\n",
        "from sklearn.model_selection import RandomizedSearchCV\n",
        "grid = {\n",
        "    'bootstrap': [True],\n",
        "    'max_depth': [i for i in range (10,120,10)],\n",
        "    'max_features': ['auto', 'sqrt'],\n",
        "    'min_samples_leaf': [3, 4, 5],\n",
        "    'min_samples_split': [8, 10, 12],\n",
        "    'n_estimators': [i for i in range(200,2100,100)]\n",
        "}\n",
        "r=RandomForestClassifier()\n",
        "rf=RandomizedSearchCV(estimator = r, param_distributions = grid, n_iter = 5, cv = 5, verbose=2, random_state=42, n_jobs = -1)"
      ],
      "execution_count": null,
      "outputs": []
    },
    {
      "cell_type": "code",
      "metadata": {
        "colab": {
          "base_uri": "https://localhost:8080/"
        },
        "id": "VXmnV7TLJHdc",
        "outputId": "20ecd714-0e7e-4e49-93e9-40960e36877a"
      },
      "source": [
        "rf.fit(xtrain,ytrain)"
      ],
      "execution_count": null,
      "outputs": [
        {
          "output_type": "stream",
          "text": [
            "Fitting 5 folds for each of 5 candidates, totalling 25 fits\n"
          ],
          "name": "stdout"
        },
        {
          "output_type": "stream",
          "text": [
            "[Parallel(n_jobs=-1)]: Using backend LokyBackend with 2 concurrent workers.\n",
            "[Parallel(n_jobs=-1)]: Done  25 out of  25 | elapsed:  2.1min finished\n"
          ],
          "name": "stderr"
        },
        {
          "output_type": "execute_result",
          "data": {
            "text/plain": [
              "RandomizedSearchCV(cv=5, error_score=nan,\n",
              "                   estimator=RandomForestClassifier(bootstrap=True,\n",
              "                                                    ccp_alpha=0.0,\n",
              "                                                    class_weight=None,\n",
              "                                                    criterion='gini',\n",
              "                                                    max_depth=None,\n",
              "                                                    max_features='auto',\n",
              "                                                    max_leaf_nodes=None,\n",
              "                                                    max_samples=None,\n",
              "                                                    min_impurity_decrease=0.0,\n",
              "                                                    min_impurity_split=None,\n",
              "                                                    min_samples_leaf=1,\n",
              "                                                    min_samples_split=2,\n",
              "                                                    min_weight_fraction_leaf=0.0,\n",
              "                                                    n_estimators=100,\n",
              "                                                    n_jobs...\n",
              "                   param_distributions={'bootstrap': [True],\n",
              "                                        'max_depth': [10, 20, 30, 40, 50, 60,\n",
              "                                                      70, 80, 90, 100, 110],\n",
              "                                        'max_features': ['auto', 'sqrt'],\n",
              "                                        'min_samples_leaf': [3, 4, 5],\n",
              "                                        'min_samples_split': [8, 10, 12],\n",
              "                                        'n_estimators': [200, 300, 400, 500,\n",
              "                                                         600, 700, 800, 900,\n",
              "                                                         1000, 1100, 1200, 1300,\n",
              "                                                         1400, 1500, 1600, 1700,\n",
              "                                                         1800, 1900, 2000]},\n",
              "                   pre_dispatch='2*n_jobs', random_state=42, refit=True,\n",
              "                   return_train_score=False, scoring=None, verbose=2)"
            ]
          },
          "metadata": {
            "tags": []
          },
          "execution_count": 335
        }
      ]
    },
    {
      "cell_type": "code",
      "metadata": {
        "id": "0DGjoBWYJXhF"
      },
      "source": [
        "##evluating the trained model\n",
        "\n",
        "pre=rf.predict(xtest)"
      ],
      "execution_count": null,
      "outputs": []
    },
    {
      "cell_type": "code",
      "metadata": {
        "colab": {
          "base_uri": "https://localhost:8080/"
        },
        "id": "BRF21iKCHfpu",
        "outputId": "d4226a54-793a-4b78-d497-7c4d7da1916d"
      },
      "source": [
        "from sklearn.metrics import classification_report\n",
        "print(classification_report(ytest,pre))"
      ],
      "execution_count": null,
      "outputs": [
        {
          "output_type": "stream",
          "text": [
            "              precision    recall  f1-score   support\n",
            "\n",
            "           0       0.95      0.99      0.97       662\n",
            "           1       1.00      0.98      0.99       210\n",
            "           2       0.97      0.99      0.98       553\n",
            "           3       0.81      0.94      0.87       126\n",
            "           4       0.00      0.00      0.00        76\n",
            "           5       1.00      0.99      1.00       556\n",
            "           6       0.95      1.00      0.98       123\n",
            "           7       0.98      0.86      0.91        49\n",
            "           8       0.71      0.90      0.79        58\n",
            "           9       0.97      1.00      0.98       316\n",
            "\n",
            "    accuracy                           0.96      2729\n",
            "   macro avg       0.83      0.86      0.85      2729\n",
            "weighted avg       0.93      0.96      0.94      2729\n",
            "\n"
          ],
          "name": "stdout"
        }
      ]
    },
    {
      "cell_type": "markdown",
      "metadata": {
        "id": "SdZKk769XPuy"
      },
      "source": [
        "# **Classification results on the test set**"
      ]
    },
    {
      "cell_type": "code",
      "metadata": {
        "colab": {
          "base_uri": "https://localhost:8080/"
        },
        "id": "nxDpuVOxMk-T",
        "outputId": "814437fc-6727-4e1b-9232-ca85368b123b"
      },
      "source": [
        "bias['BiasInfluentialFactor'].value_counts()"
      ],
      "execution_count": null,
      "outputs": [
        {
          "output_type": "execute_result",
          "data": {
            "text/plain": [
              "0    3336\n",
              "2    2858\n",
              "5    2605\n",
              "9    1561\n",
              "1    1174\n",
              "3     659\n",
              "6     582\n",
              "4     328\n",
              "8     280\n",
              "7     262\n",
              "Name: BiasInfluentialFactor, dtype: int64"
            ]
          },
          "metadata": {
            "tags": []
          },
          "execution_count": 331
        }
      ]
    },
    {
      "cell_type": "code",
      "metadata": {
        "id": "h0rKSVcMOk6J"
      },
      "source": [
        "## Inverse of the Label encoded values stored in dictionary for later\n",
        "\n",
        "df['BiasInfluentialFactor'].value_counts()\n",
        "predicted={0:'',2:'DegreeBranch',5:'Gender',9:'YearsOfExperince',1:'CurrentCompanyType',3:'EmpScore',6:'HighestDegree',4:'Ethinicity',8:'MartialStatus',7:'LatestDegreeCGPA'}"
      ],
      "execution_count": null,
      "outputs": []
    },
    {
      "cell_type": "code",
      "metadata": {
        "id": "08MaxJCRQ1C0"
      },
      "source": [
        "bias_cols=['Age',\n",
        " 'Gender',\n",
        " 'HighestDegree',\n",
        " 'DegreeBranch',\n",
        " 'LatestDegreeCGPA',\n",
        " 'CurrentCTC',\n",
        " 'MartialStatus',\n",
        " 'EmpScore',\n",
        " 'CurrentCompanyType',\n",
        " 'FitmentPercent']\n",
        "test_bias=test_real[bias_cols]"
      ],
      "execution_count": null,
      "outputs": []
    },
    {
      "cell_type": "code",
      "metadata": {
        "colab": {
          "base_uri": "https://localhost:8080/"
        },
        "id": "x-25tYwsRHBV",
        "outputId": "ad14e911-c47d-46b0-b31c-262684b79bbd"
      },
      "source": [
        "test_bias=label(test_bias)"
      ],
      "execution_count": null,
      "outputs": [
        {
          "output_type": "stream",
          "text": [
            "/usr/local/lib/python3.7/dist-packages/ipykernel_launcher.py:26: SettingWithCopyWarning: \n",
            "A value is trying to be set on a copy of a slice from a DataFrame.\n",
            "Try using .loc[row_indexer,col_indexer] = value instead\n",
            "\n",
            "See the caveats in the documentation: https://pandas.pydata.org/pandas-docs/stable/user_guide/indexing.html#returning-a-view-versus-a-copy\n"
          ],
          "name": "stderr"
        }
      ]
    },
    {
      "cell_type": "code",
      "metadata": {
        "id": "Alu3FJ89RHZg"
      },
      "source": [
        "test_bias_class=rf.predict(test_bias)\n",
        "test_real['BiasInfluentialFactor']=test_bias_class\n",
        "test_real['BiasInfluentialFactor']=test_real['BiasInfluentialFactor'].apply(lambda x: predicted[x])\n",
        "submission=test_real[['EmpID','BiasInfluentialFactor','FitmentPercent']]\n",
        "submission.to_csv('submit.csv',index=False)"
      ],
      "execution_count": null,
      "outputs": []
    },
    {
      "cell_type": "code",
      "metadata": {
        "id": "p7f1DgbqTi6Y"
      },
      "source": [
        ""
      ],
      "execution_count": null,
      "outputs": []
    },
    {
      "cell_type": "code",
      "metadata": {
        "id": "FqA_GsX3XWbF"
      },
      "source": [
        "def f(abc):\n",
        "  '''this is a docstring'''\n",
        "  return abc\n"
      ],
      "execution_count": null,
      "outputs": []
    },
    {
      "cell_type": "code",
      "metadata": {
        "id": "thYekmylXhao"
      },
      "source": [
        "f??\n"
      ],
      "execution_count": null,
      "outputs": []
    },
    {
      "cell_type": "code",
      "metadata": {
        "id": "mz0IJglrXiZL"
      },
      "source": [
        ""
      ],
      "execution_count": null,
      "outputs": []
    }
  ]
}